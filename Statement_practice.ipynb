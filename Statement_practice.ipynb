{
 "cells": [
  {
   "cell_type": "code",
   "execution_count": 1,
   "metadata": {
    "tags": []
   },
   "outputs": [
    {
     "output_type": "stream",
     "name": "stdout",
     "text": "[1, 2, 3, 4, 5, 6, 7, 8, 9, 0]\n[2, 3, 4, 5, 6, 7, 8, 9, 0, 1]\n"
    }
   ],
   "source": [
    "# 有一个列表，其中包括 10 个元素，例如这个列表是[1,2,3,4,5,6,7,8,9,0],要求将列表中的每个元素一次向前移动一个位置，第一个元素到列表的最后，然后输出这个列表。最终样式是[2,3,4,5,6,7,8,9,0,1]\n",
    "raw = [1,2,3,4,5,6,7,8,9,0]\n",
    "print(raw)\n",
    "\n",
    "b = raw.pop(0)\n",
    "raw.append(b)\n",
    "print(raw)"
   ]
  },
  {
   "cell_type": "code",
   "execution_count": 2,
   "metadata": {
    "tags": []
   },
   "outputs": [
    {
     "output_type": "stream",
     "name": "stdout",
     "text": "[9, 17, 47, 28, 51, 87, 32, 1, 17, 61, 30, 45, 12, 97, 83, 86, 25, 33, 34, 82, 52, 31, 11, 25, 93, 92, 12, 28, 83, 24, 26, 39, 47, 85, 83, 64, 80, 97, 63, 28]\nthe average score is:48.5\nThere are 23 students less than average.\n[97, 97, 93, 92, 87, 86, 85, 83, 83, 83, 82, 80, 64, 63, 61, 52, 51, 47, 47, 45, 39, 34, 33, 32, 31, 30, 28, 28, 28, 26, 25, 25, 24, 17, 17, 12, 12, 11, 9, 1]\n"
    }
   ],
   "source": [
    "#1.产生一个列表，其中有 40 个元素，每个元素是 0 到 100 的一个随机整数\n",
    "#2.如果这个列表中的数据代表着某个班级 40 人的分数，请计算成绩低于平均分的学生人数，并输出\n",
    "#3.对上面的列表元素从大到小排序\n",
    "from __future__ import division\n",
    "import random\n",
    "\n",
    "score = [random.randint(0,100) for i in range(40)] \n",
    "print(score)\n",
    "\n",
    "num = len(score)\n",
    "sum_score = sum(score)    \n",
    "ave_num = sum_score/num        \n",
    "less_ave = len([i for i in score if i<ave_num])   \n",
    "print (\"the average score is:%.1f\" % ave_num)\n",
    "print (\"There are %d students less than average.\" % less_ave)\n",
    "\n",
    "sorted_score = sorted(score, reverse=True)  \n",
    "print(sorted_score)\n"
   ]
  },
  {
   "cell_type": "code",
   "execution_count": 4,
   "metadata": {
    "tags": []
   },
   "outputs": [
    {
     "output_type": "stream",
     "name": "stdout",
     "text": "I love  code.\n['I', 'love', '', 'code.']\n['I', 'love', 'code.']\nI love code.\n"
    }
   ],
   "source": [
    "# 如果将一句话作为一个字符串，那么这个字符串中必然会有空格（这里仅讨论英文），比如\"How are you.\"，但有的时候，会在两个单词之间多大一个空格。现在的任务是，如果一个字符串中有连续的两个空格，请把它删除。\n",
    "string = \"I love  code.\"\n",
    "print(string)\n",
    "\n",
    "str_lst = string.split(\" \")\n",
    "print(str_lst)\n",
    "\n",
    "words = [s for s in str_lst if s!=\"\"] \n",
    "print(words)\n",
    "\n",
    "new_string = \" \".join(words)\n",
    "print(new_string)"
   ]
  },
  {
   "cell_type": "code",
   "execution_count": 5,
   "metadata": {
    "tags": []
   },
   "outputs": [
    {
     "output_type": "stream",
     "name": "stdout",
     "text": "3\n"
    }
   ],
   "source": [
    "# 斐波那契数列\n",
    "a, b = 0, 1\n",
    "\n",
    "for i in range(4):   \n",
    "    a, b = b, a+b\n",
    "\n",
    "print(a)"
   ]
  }
 ],
 "metadata": {
  "language_info": {
   "codemirror_mode": {
    "name": "ipython",
    "version": 3
   },
   "file_extension": ".py",
   "mimetype": "text/x-python",
   "name": "python",
   "nbconvert_exporter": "python",
   "pygments_lexer": "ipython3",
   "version": "3.6.4-final"
  },
  "orig_nbformat": 2,
  "kernelspec": {
   "name": "python3",
   "display_name": "Python 3"
  }
 },
 "nbformat": 4,
 "nbformat_minor": 2
}