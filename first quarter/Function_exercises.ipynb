{
 "cells": [
  {
   "cell_type": "code",
   "execution_count": 1,
   "metadata": {
    "tags": []
   },
   "outputs": [
    {
     "output_type": "stream",
     "name": "stdout",
     "text": "a quadratic equation: x^2 + 2x + 1 = 0\nthe result is: -1.0\n"
    }
   ],
   "source": [
    "# 解一元二次方程\n",
    "from __future__ import division\n",
    "import math\n",
    "\n",
    "def quadratic_equation(a,b,c):\n",
    "    delta = b*b - 4*a*c\n",
    "    if delta<0:\n",
    "        return False\n",
    "    elif delta==0:\n",
    "        return -(b/(2*a))\n",
    "    else:\n",
    "        sqrt_delta = math.sqrt(delta)\n",
    "        x1 = (-b + sqrt_delta)/(2*a)\n",
    "        x2 = (-b - sqrt_delta)/(2*a)\n",
    "        return x1, x2\n",
    "\n",
    "if __name__ == \"__main__\":\n",
    "    print(\"a quadratic equation: x^2 + 2x + 1 = 0\")\n",
    "    coefficients = (1, 2, 1)\n",
    "    roots = quadratic_equation(*coefficients)\n",
    "    if roots:\n",
    "        print(\"the result is:\",roots)\n",
    "    else:\n",
    "        print(\"this equation has no solution.\")"
   ]
  },
  {
   "cell_type": "code",
   "execution_count": 2,
   "metadata": {
    "tags": []
   },
   "outputs": [
    {
     "output_type": "stream",
     "name": "stdout",
     "text": "the average score is:  80.22222222222223\nlist of the scores:  [('facebook', 99), ('apple', 99), ('amazon', 99), ('google', 98), ('alibaba', 80), ('android', 76), ('IBM', 70), ('baidu', 52), ('yahoo', 49)]\nXueba is:  [('facebook', 99), ('apple', 99), ('amazon', 99)]\nXuzha is:  [('yahoo', 49)]\n"
    }
   ],
   "source": [
    "# 统计考试成绩\n",
    "from __future__ import division\n",
    "\n",
    "def average_score(scores):\n",
    "    score_values = scores.values()\n",
    "    sum_scores = sum(score_values)\n",
    "    average = sum_scores/len(score_values)\n",
    "    return average\n",
    "\n",
    "def sorted_score(scores):\n",
    "    score_lst = [(scores[k],k) for k in scores]\n",
    "    sort_lst = sorted(score_lst, reverse=True)\n",
    "    return [(i[1], i[0]) for i in sort_lst]\n",
    "\n",
    "def max_score(scores):\n",
    "    lst = sorted_score(scores)\n",
    "    max_score = lst[0][1]\n",
    "    return [(i[0],i[1]) for i in lst if i[1]==max_score]\n",
    "\n",
    "def min_score(scores):\n",
    "    lst = sorted_score(scores)\n",
    "    min_score = lst[len(lst)-1][1]\n",
    "    return [(i[0],i[1]) for i in lst if i[1]==min_score]\n",
    "\n",
    "if __name__ == \"__main__\":\n",
    "    examine_scores = {\"google\":98, \"facebook\":99, \"baidu\":52, \"alibaba\":80, \"yahoo\":49, \"IBM\":70, \"android\":76, \"apple\":99, \"amazon\":99}\n",
    "\n",
    "    ave = average_score(examine_scores)\n",
    "    print (\"the average score is: \",ave   )\n",
    "\n",
    "    sor = sorted_score(examine_scores)\n",
    "    print (\"list of the scores: \",sor   )\n",
    "\n",
    "    xueba = max_score(examine_scores)\n",
    "    print (\"Xueba is: \",xueba    )\n",
    "\n",
    "    xuezha = min_score(examine_scores)\n",
    "    print (\"Xuzha is: \",xuezha )"
   ]
  },
  {
   "cell_type": "code",
   "execution_count": 3,
   "metadata": {
    "tags": []
   },
   "outputs": [
    {
     "output_type": "stream",
     "name": "stdout",
     "text": "[2, 3, 5, 7, 11, 13, 17, 19, 23, 29, 31, 37, 41, 43, 47, 53, 59, 61, 67, 71, 73, 79, 83, 89, 97]\n"
    }
   ],
   "source": [
    "# 找素数\n",
    "import math\n",
    "\n",
    "def is_prime(n):\n",
    "    if n <= 1:\n",
    "        return False\n",
    "    for i in range(2, int(math.sqrt(n) + 1)):\n",
    "        if n % i == 0:\n",
    "            return False\n",
    "    return True\n",
    "\n",
    "if __name__ == \"__main__\":\n",
    "    primes = [i for i in range(2,100) if is_prime(i)]    #从 2 开始，因为 1 显然不是质数\n",
    "    print(primes)"
   ]
  }
 ],
 "metadata": {
  "language_info": {
   "codemirror_mode": {
    "name": "ipython",
    "version": 3
   },
   "file_extension": ".py",
   "mimetype": "text/x-python",
   "name": "python",
   "nbconvert_exporter": "python",
   "pygments_lexer": "ipython3",
   "version": "3.6.4-final"
  },
  "orig_nbformat": 2,
  "kernelspec": {
   "name": "python3",
   "display_name": "Python 3"
  }
 },
 "nbformat": 4,
 "nbformat_minor": 2
}